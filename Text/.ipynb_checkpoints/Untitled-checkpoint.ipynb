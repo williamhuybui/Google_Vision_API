{
 "cells": [
  {
   "cell_type": "code",
   "execution_count": null,
   "metadata": {},
   "outputs": [],
   "source": [
    "import os, io\n",
    "from google.cloud import vision\n",
    "import pandas as pd\n",
    "\n",
    "os.environ['GOOGLE_APPLICATION_CREDENTIALS'] = r\"ServiceAccountToken.json\"\n",
    "\n",
    "client = vision.ImageAnnotatorClient()\n",
    "\n",
    "file_name = 'cable car.jpg'\n",
    "image_path = f'.\\VisionAPI\\Images\\{file_name}'\n",
    "\n",
    "with io.open(image_path, 'rb') as image_file:\n",
    "    content = image_file.read()\n",
    "\n",
    "# construct an iamge instance\n",
    "image = vision.types.Image(content=content)\n",
    "\n",
    "\"\"\"\n",
    "# or we can pass the image url\n",
    "image = vision.types.Image()\n",
    "image.source.image_uri = 'https://edu.pngfacts.com/uploads/1/1/3/2/11320972/grade-10-english_orig.png'\n",
    "\"\"\"\n",
    "\n",
    "# annotate Image Response\n",
    "response = client.text_detection(image=image)  # returns TextAnnotation\n",
    "df = pd.DataFrame(columns=['locale', 'description'])\n",
    "\n",
    "texts = response.text_annotations\n",
    "for text in texts:\n",
    "    df = df.append(\n",
    "        dict(\n",
    "            locale=text.locale,\n",
    "            description=text.description\n",
    "        ),\n",
    "        ignore_index=True\n",
    "    )\n",
    "\n",
    "print(df['description'][0])"
   ]
  }
 ],
 "metadata": {
  "kernelspec": {
   "display_name": "Python 3",
   "language": "python",
   "name": "python3"
  },
  "language_info": {
   "codemirror_mode": {
    "name": "ipython",
    "version": 3
   },
   "file_extension": ".py",
   "mimetype": "text/x-python",
   "name": "python",
   "nbconvert_exporter": "python",
   "pygments_lexer": "ipython3",
   "version": "3.7.3"
  }
 },
 "nbformat": 4,
 "nbformat_minor": 2
}
