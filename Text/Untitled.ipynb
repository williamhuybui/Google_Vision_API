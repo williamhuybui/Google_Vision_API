{
 "cells": [
  {
   "cell_type": "code",
   "execution_count": 1,
   "metadata": {},
   "outputs": [],
   "source": [
    "# !pip install google-cloud    \n",
    "# !pip install google-cloud-vision"
   ]
  },
  {
   "cell_type": "code",
   "execution_count": 2,
   "metadata": {},
   "outputs": [],
   "source": [
    "import os, io\n",
    "from google.cloud import vision\n",
    "import pandas as pd"
   ]
  },
  {
   "cell_type": "code",
   "execution_count": 3,
   "metadata": {},
   "outputs": [
    {
     "data": {
      "text/plain": [
       "'/Users/huybui/Desktop/Google_Cloud_API/Code/Text'"
      ]
     },
     "execution_count": 3,
     "metadata": {},
     "output_type": "execute_result"
    }
   ],
   "source": [
    "pwd"
   ]
  },
  {
   "cell_type": "code",
   "execution_count": 4,
   "metadata": {},
   "outputs": [
    {
     "name": "stdout",
     "output_type": "stream",
     "text": [
      "Untitled.ipynb  math_meme.jpg   soho.jpg\r\n"
     ]
    }
   ],
   "source": [
    "ls"
   ]
  },
  {
   "cell_type": "code",
   "execution_count": 5,
   "metadata": {},
   "outputs": [
    {
     "data": {
      "text/plain": [
       "True"
      ]
     },
     "execution_count": 5,
     "metadata": {},
     "output_type": "execute_result"
    }
   ],
   "source": [
    "\n",
    "os.path.isfile('math_meme.jpg')"
   ]
  },
  {
   "cell_type": "code",
   "execution_count": 6,
   "metadata": {},
   "outputs": [],
   "source": [
    "os.environ['GOOGLE_APPLICATION_CREDENTIALS'] = r\"/Users/huybui/Desktop/Google_Cloud_API/key.json\"\n",
    "\n",
    "client = vision.ImageAnnotatorClient()\n",
    "\n",
    "FILE = 'soho.jpg'\n",
    "FOLDER = r'/Users/huybui/Desktop/Google_Cloud_API/Code/Text'\n",
    "PATH=os.path.join(FOLDER,FILE)"
   ]
  },
  {
   "cell_type": "code",
   "execution_count": 7,
   "metadata": {},
   "outputs": [],
   "source": [
    "with io.open(PATH, 'rb') as image_file:\n",
    "    content = image_file.read()"
   ]
  },
  {
   "cell_type": "code",
   "execution_count": 8,
   "metadata": {},
   "outputs": [
    {
     "data": {
      "text/plain": [
       "'/Users/huybui/Desktop/Google_Cloud_API/Code/Text/soho.jpg'"
      ]
     },
     "execution_count": 8,
     "metadata": {},
     "output_type": "execute_result"
    }
   ],
   "source": [
    "PATH"
   ]
  },
  {
   "cell_type": "code",
   "execution_count": 9,
   "metadata": {},
   "outputs": [],
   "source": [
    "image = vision.types.Image(content=content)\n",
    "\n",
    "# image = vision.types.Image() #For image URL\n",
    "# image.source.image_uri = 'https://edu.pngfacts.com/uploads/1/1/3/2/11320972/grade-10-english_orig.png'"
   ]
  },
  {
   "cell_type": "code",
   "execution_count": 10,
   "metadata": {},
   "outputs": [
    {
     "name": "stdout",
     "output_type": "stream",
     "text": [
      "KOREAN FRIED CHICKEN\n",
      "NEW COOL\n",
      "SerHo!\n",
      "SOHO\n",
      "COHOS\n",
      "5o\n",
      "ICKE\n",
      "So\n",
      "BHO SOH\n",
      "PHO SO\n",
      "CHICKN\n",
      "SOHON SOT\n",
      "CHICKER\n",
      "SOH\n",
      "EXT\n",
      "CHICKEM\n",
      "DWID NGUEN\n",
      "BELLAIRE\n",
      "EDICAL\n",
      "EAF\n",
      "Soho Chicken\n",
      "GRUBHUB\n",
      "CR3-Z815\n",
      "LAWOF\n",
      "GNIGKEA\n",
      "SARGOND\n",
      "We deliver\n",
      "with\n",
      "Postmates\n",
      "VENE atr\n",
      "LMF 1938\n",
      "THIS DOG\n",
      "WHEN\n",
      "SOHO\n",
      "hiladelphia - Houston\n",
      "\n"
     ]
    }
   ],
   "source": [
    "response = client.text_detection(image=image)\n",
    "description=response.text_annotations[0].description\n",
    "print(description)"
   ]
  },
  {
   "cell_type": "code",
   "execution_count": 11,
   "metadata": {},
   "outputs": [
    {
     "data": {
      "text/plain": [
       "google.cloud.vision_v1.types.AnnotateImageResponse"
      ]
     },
     "execution_count": 11,
     "metadata": {},
     "output_type": "execute_result"
    }
   ],
   "source": [
    "type(response)"
   ]
  },
  {
   "cell_type": "code",
   "execution_count": null,
   "metadata": {},
   "outputs": [],
   "source": []
  }
 ],
 "metadata": {
  "kernelspec": {
   "display_name": "Python 3",
   "language": "python",
   "name": "python3"
  },
  "language_info": {
   "codemirror_mode": {
    "name": "ipython",
    "version": 3
   },
   "file_extension": ".py",
   "mimetype": "text/x-python",
   "name": "python",
   "nbconvert_exporter": "python",
   "pygments_lexer": "ipython3",
   "version": "3.7.3"
  }
 },
 "nbformat": 4,
 "nbformat_minor": 2
}
